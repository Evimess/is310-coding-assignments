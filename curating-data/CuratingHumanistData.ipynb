{
 "cells": [
  {
   "cell_type": "code",
   "execution_count": 1,
   "metadata": {},
   "outputs": [],
   "source": [
    "import pandas as pd\n",
    "from bs4 import BeautifulSoup\n",
    "import requests\n",
    "import csv"
   ]
  },
  {
   "cell_type": "code",
   "execution_count": 55,
   "metadata": {},
   "outputs": [],
   "source": [
    "url = 'https://humanist.kdl.kcl.ac.uk/Archives/'"
   ]
  },
  {
   "cell_type": "code",
   "execution_count": 56,
   "metadata": {},
   "outputs": [],
   "source": [
    "response = requests.get(url)\n",
    "soup = BeautifulSoup(response.text, features=\"html.parser\")"
   ]
  },
  {
   "cell_type": "code",
   "execution_count": 80,
   "metadata": {},
   "outputs": [],
   "source": [
    "volume_links = soup.find_all('a', href=True)  \n",
    "links = volume_links"
   ]
  },
  {
   "cell_type": "code",
   "execution_count": 81,
   "metadata": {},
   "outputs": [],
   "source": [
    "more_links = \"https://humanist.kdl.kcl.ac.uk/Archives/\" + links[1]['href']\n",
    "response2 = requests.get(more_links)\n",
    "soup2 = BeautifulSoup(response2.text, features=\"html.parser\")\n",
    "\n",
    "links_c = soup2.find_all('a')"
   ]
  },
  {
   "cell_type": "code",
   "execution_count": 82,
   "metadata": {},
   "outputs": [],
   "source": [
    "with open('web_scraped_humanist_listserv.csv', 'w') as file:\n",
    "    writer = csv.writer(file)\n",
    "    writer.writerow(['Link', 'Volume Text'])\n",
    "    for link in links_c:\n",
    "        if \"humanist\" in link.get('href'):\n",
    "            volume_url = more_links + link.get('href')\n",
    "            volume_response = requests.get(volume_url)\n",
    "            volume_soup = BeautifulSoup(volume_response.text, \"html.parser\")\n",
    "            writer.writerow([link.get_text(), volume_soup.get_text()[:10000]])"
   ]
  },
  {
   "cell_type": "code",
   "execution_count": 83,
   "metadata": {},
   "outputs": [
    {
     "data": {
      "text/html": [
       "<div>\n",
       "<style scoped>\n",
       "    .dataframe tbody tr th:only-of-type {\n",
       "        vertical-align: middle;\n",
       "    }\n",
       "\n",
       "    .dataframe tbody tr th {\n",
       "        vertical-align: top;\n",
       "    }\n",
       "\n",
       "    .dataframe thead th {\n",
       "        text-align: right;\n",
       "    }\n",
       "</style>\n",
       "<table border=\"1\" class=\"dataframe\">\n",
       "  <thead>\n",
       "    <tr style=\"text-align: right;\">\n",
       "      <th></th>\n",
       "      <th>Link</th>\n",
       "      <th>Volume Text</th>\n",
       "    </tr>\n",
       "  </thead>\n",
       "  <tbody>\n",
       "    <tr>\n",
       "      <th>0</th>\n",
       "      <td>humanist.1987-1988.txt</td>\n",
       "      <td>From: MCCARTY@UTOREPAS\\nSubject: \\nDate: 12 Ma...</td>\n",
       "    </tr>\n",
       "    <tr>\n",
       "      <th>1</th>\n",
       "      <td>humanist.1988-1989.txt</td>\n",
       "      <td>From: Sebastian Rahtz \\nSubject: C++ and Gnu o...</td>\n",
       "    </tr>\n",
       "    <tr>\n",
       "      <th>2</th>\n",
       "      <td>humanist.1989-1990.txt</td>\n",
       "      <td>From: Willard McCarty \\nSubject: Happy Birthda...</td>\n",
       "    </tr>\n",
       "    <tr>\n",
       "      <th>3</th>\n",
       "      <td>humanist.1990-1991.txt</td>\n",
       "      <td>From: Elaine Brennan &amp; Allen Renear \\nSubject:...</td>\n",
       "    </tr>\n",
       "    <tr>\n",
       "      <th>4</th>\n",
       "      <td>humanist.1991-1992.txt</td>\n",
       "      <td>From: Elaine Brennan &amp; Allen Renear \\nSubject:...</td>\n",
       "    </tr>\n",
       "    <tr>\n",
       "      <th>5</th>\n",
       "      <td>humanist.1992-1993.txt</td>\n",
       "      <td>From: Elaine M Brennan \\nSubject: Humanist's B...</td>\n",
       "    </tr>\n",
       "    <tr>\n",
       "      <th>6</th>\n",
       "      <td>humanist.1993-1994.txt</td>\n",
       "      <td>From: 6500card%ucsbuxa@hub.ucsb.edu (Cheryl A....</td>\n",
       "    </tr>\n",
       "    <tr>\n",
       "      <th>7</th>\n",
       "      <td>humanist.1994-1995.txt</td>\n",
       "      <td>From: Andrew Burday \\nSubject: Re: 7.0638 Qs: ...</td>\n",
       "    </tr>\n",
       "    <tr>\n",
       "      <th>8</th>\n",
       "      <td>humanist.1995-1996.txt</td>\n",
       "      <td>From: \"Gregory Bloomquist\" \\nSubject: Round Ta...</td>\n",
       "    </tr>\n",
       "    <tr>\n",
       "      <th>9</th>\n",
       "      <td>humanist.1996-1997.txt</td>\n",
       "      <td>From: Humanist \\nSubject: Humanist begins its ...</td>\n",
       "    </tr>\n",
       "    <tr>\n",
       "      <th>10</th>\n",
       "      <td>humanist.1997-1998.txt</td>\n",
       "      <td>From: Willard McCarty \\nSubject: mind no mind\\...</td>\n",
       "    </tr>\n",
       "    <tr>\n",
       "      <th>11</th>\n",
       "      <td>humanist.1998-1999.txt</td>\n",
       "      <td>From: Willard McCarty \\nSubject: one more than...</td>\n",
       "    </tr>\n",
       "    <tr>\n",
       "      <th>12</th>\n",
       "      <td>humanist.1999-2000.txt</td>\n",
       "      <td>From: Willard McCarty \\nSubject: HAPPY now we ...</td>\n",
       "    </tr>\n",
       "    <tr>\n",
       "      <th>13</th>\n",
       "      <td>humanist.2000-2001.txt</td>\n",
       "      <td>From: Willard McCarty \\nSubject: HAPPY now we ...</td>\n",
       "    </tr>\n",
       "    <tr>\n",
       "      <th>14</th>\n",
       "      <td>humanist.2001-2002.txt</td>\n",
       "      <td>From: Willard McCarty \\nSubject: 14\\nDate: Mon...</td>\n",
       "    </tr>\n",
       "    <tr>\n",
       "      <th>15</th>\n",
       "      <td>humanist.2002-2003.txt</td>\n",
       "      <td>From: NINCH-ANNOUNCE \\nSubject: New Project: \"...</td>\n",
       "    </tr>\n",
       "    <tr>\n",
       "      <th>16</th>\n",
       "      <td>humanist.2003-2004.txt</td>\n",
       "      <td>From: Willard McCarty \\nSubject: Happy Sweet 1...</td>\n",
       "    </tr>\n",
       "    <tr>\n",
       "      <th>17</th>\n",
       "      <td>humanist.2004-2005.txt</td>\n",
       "      <td>From: Willard McCarty \\nSubject: happy 17th bi...</td>\n",
       "    </tr>\n",
       "    <tr>\n",
       "      <th>18</th>\n",
       "      <td>humanist.2005-2006.txt</td>\n",
       "      <td>From: Willard McCarty \\nSubject: Happy 18th bi...</td>\n",
       "    </tr>\n",
       "    <tr>\n",
       "      <th>19</th>\n",
       "      <td>humanist.2006-2007.txt</td>\n",
       "      <td>From: Willard McCarty \\nSubject: Happy 19th bi...</td>\n",
       "    </tr>\n",
       "    <tr>\n",
       "      <th>20</th>\n",
       "      <td>humanist.2007-2008.txt</td>\n",
       "      <td>From: Willard McCarty \\nSubject: Humanist's 20...</td>\n",
       "    </tr>\n",
       "  </tbody>\n",
       "</table>\n",
       "</div>"
      ],
      "text/plain": [
       "                      Link                                        Volume Text\n",
       "0   humanist.1987-1988.txt  From: MCCARTY@UTOREPAS\\nSubject: \\nDate: 12 Ma...\n",
       "1   humanist.1988-1989.txt  From: Sebastian Rahtz \\nSubject: C++ and Gnu o...\n",
       "2   humanist.1989-1990.txt  From: Willard McCarty \\nSubject: Happy Birthda...\n",
       "3   humanist.1990-1991.txt  From: Elaine Brennan & Allen Renear \\nSubject:...\n",
       "4   humanist.1991-1992.txt  From: Elaine Brennan & Allen Renear \\nSubject:...\n",
       "5   humanist.1992-1993.txt  From: Elaine M Brennan \\nSubject: Humanist's B...\n",
       "6   humanist.1993-1994.txt  From: 6500card%ucsbuxa@hub.ucsb.edu (Cheryl A....\n",
       "7   humanist.1994-1995.txt  From: Andrew Burday \\nSubject: Re: 7.0638 Qs: ...\n",
       "8   humanist.1995-1996.txt  From: \"Gregory Bloomquist\" \\nSubject: Round Ta...\n",
       "9   humanist.1996-1997.txt  From: Humanist \\nSubject: Humanist begins its ...\n",
       "10  humanist.1997-1998.txt  From: Willard McCarty \\nSubject: mind no mind\\...\n",
       "11  humanist.1998-1999.txt  From: Willard McCarty \\nSubject: one more than...\n",
       "12  humanist.1999-2000.txt  From: Willard McCarty \\nSubject: HAPPY now we ...\n",
       "13  humanist.2000-2001.txt  From: Willard McCarty \\nSubject: HAPPY now we ...\n",
       "14  humanist.2001-2002.txt  From: Willard McCarty \\nSubject: 14\\nDate: Mon...\n",
       "15  humanist.2002-2003.txt  From: NINCH-ANNOUNCE \\nSubject: New Project: \"...\n",
       "16  humanist.2003-2004.txt  From: Willard McCarty \\nSubject: Happy Sweet 1...\n",
       "17  humanist.2004-2005.txt  From: Willard McCarty \\nSubject: happy 17th bi...\n",
       "18  humanist.2005-2006.txt  From: Willard McCarty \\nSubject: Happy 18th bi...\n",
       "19  humanist.2006-2007.txt  From: Willard McCarty \\nSubject: Happy 19th bi...\n",
       "20  humanist.2007-2008.txt  From: Willard McCarty \\nSubject: Humanist's 20..."
      ]
     },
     "execution_count": 83,
     "metadata": {},
     "output_type": "execute_result"
    }
   ],
   "source": [
    "df = pd.read_csv(\"web_scraped_humanist_listserv.csv\")\n",
    "df"
   ]
  },
  {
   "cell_type": "markdown",
   "metadata": {},
   "source": [
    "We could extract the year or the volume that the text was from."
   ]
  },
  {
   "cell_type": "code",
   "execution_count": null,
   "metadata": {},
   "outputs": [],
   "source": []
  },
  {
   "cell_type": "code",
   "execution_count": null,
   "metadata": {},
   "outputs": [],
   "source": []
  }
 ],
 "metadata": {
  "kernelspec": {
   "display_name": "Python 3.11.5 ('is310-env')",
   "language": "python",
   "name": "python3"
  },
  "language_info": {
   "codemirror_mode": {
    "name": "ipython",
    "version": 3
   },
   "file_extension": ".py",
   "mimetype": "text/x-python",
   "name": "python",
   "nbconvert_exporter": "python",
   "pygments_lexer": "ipython3",
   "version": "3.11.5"
  },
  "orig_nbformat": 4,
  "vscode": {
   "interpreter": {
    "hash": "3a8c5e5bf18a501e79dfa30e93ed5c02b8c8ccfee1fc9fd1d32c6e050f34f6f3"
   }
  }
 },
 "nbformat": 4,
 "nbformat_minor": 2
}
